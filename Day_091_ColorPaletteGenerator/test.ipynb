{
 "cells": [
  {
   "cell_type": "code",
   "execution_count": 1,
   "metadata": {},
   "outputs": [],
   "source": [
    "import numpy as np\n",
    "import matplotlib.image as img\n",
    "import matplotlib.pyplot as plt\n",
    "import pandas as pd\n"
   ]
  },
  {
   "cell_type": "code",
   "execution_count": 2,
   "metadata": {},
   "outputs": [],
   "source": [
    "\n",
    "img = img.imread('milfordtest.jpg')\n",
    "# print(img)\n",
    "# print(img.shape)\n",
    "color, count = np.unique(img.reshape(-1, img.shape[-1]), axis=0, return_counts=True)"
   ]
  },
  {
   "cell_type": "code",
   "execution_count": 9,
   "metadata": {},
   "outputs": [
    {
     "data": {
      "text/plain": [
       "(251162,)"
      ]
     },
     "execution_count": 9,
     "metadata": {},
     "output_type": "execute_result"
    }
   ],
   "source": [
    "count.shape"
   ]
  },
  {
   "cell_type": "code",
   "execution_count": 25,
   "metadata": {},
   "outputs": [
    {
     "data": {
      "text/plain": [
       "array([[  0,   1,   0],\n",
       "       [  0,   1,   2],\n",
       "       [  0,  10,  15],\n",
       "       ...,\n",
       "       [255, 255, 251],\n",
       "       [255, 255, 253],\n",
       "       [255, 255, 255]], dtype=uint8)"
      ]
     },
     "execution_count": 25,
     "metadata": {},
     "output_type": "execute_result"
    }
   ],
   "source": [
    "color"
   ]
  },
  {
   "cell_type": "code",
   "execution_count": 28,
   "metadata": {},
   "outputs": [
    {
     "data": {
      "text/html": [
       "<div>\n",
       "<style scoped>\n",
       "    .dataframe tbody tr th:only-of-type {\n",
       "        vertical-align: middle;\n",
       "    }\n",
       "\n",
       "    .dataframe tbody tr th {\n",
       "        vertical-align: top;\n",
       "    }\n",
       "\n",
       "    .dataframe thead th {\n",
       "        text-align: right;\n",
       "    }\n",
       "</style>\n",
       "<table border=\"1\" class=\"dataframe\">\n",
       "  <thead>\n",
       "    <tr style=\"text-align: right;\">\n",
       "      <th></th>\n",
       "      <th>R</th>\n",
       "      <th>G</th>\n",
       "      <th>B</th>\n",
       "    </tr>\n",
       "  </thead>\n",
       "  <tbody>\n",
       "    <tr>\n",
       "      <th>0</th>\n",
       "      <td>0</td>\n",
       "      <td>1</td>\n",
       "      <td>0</td>\n",
       "    </tr>\n",
       "    <tr>\n",
       "      <th>1</th>\n",
       "      <td>0</td>\n",
       "      <td>1</td>\n",
       "      <td>2</td>\n",
       "    </tr>\n",
       "    <tr>\n",
       "      <th>2</th>\n",
       "      <td>0</td>\n",
       "      <td>10</td>\n",
       "      <td>15</td>\n",
       "    </tr>\n",
       "    <tr>\n",
       "      <th>3</th>\n",
       "      <td>0</td>\n",
       "      <td>16</td>\n",
       "      <td>57</td>\n",
       "    </tr>\n",
       "    <tr>\n",
       "      <th>4</th>\n",
       "      <td>0</td>\n",
       "      <td>18</td>\n",
       "      <td>56</td>\n",
       "    </tr>\n",
       "  </tbody>\n",
       "</table>\n",
       "</div>"
      ],
      "text/plain": [
       "   R   G   B\n",
       "0  0   1   0\n",
       "1  0   1   2\n",
       "2  0  10  15\n",
       "3  0  16  57\n",
       "4  0  18  56"
      ]
     },
     "execution_count": 28,
     "metadata": {},
     "output_type": "execute_result"
    }
   ],
   "source": [
    "\n",
    "color_df = pd.DataFrame(color, columns=['R','G','B'])\n"
   ]
  },
  {
   "cell_type": "code",
   "execution_count": 54,
   "metadata": {},
   "outputs": [
    {
     "data": {
      "text/html": [
       "<div>\n",
       "<style scoped>\n",
       "    .dataframe tbody tr th:only-of-type {\n",
       "        vertical-align: middle;\n",
       "    }\n",
       "\n",
       "    .dataframe tbody tr th {\n",
       "        vertical-align: top;\n",
       "    }\n",
       "\n",
       "    .dataframe thead th {\n",
       "        text-align: right;\n",
       "    }\n",
       "</style>\n",
       "<table border=\"1\" class=\"dataframe\">\n",
       "  <thead>\n",
       "    <tr style=\"text-align: right;\">\n",
       "      <th></th>\n",
       "      <th>R</th>\n",
       "      <th>G</th>\n",
       "      <th>B</th>\n",
       "      <th>count</th>\n",
       "    </tr>\n",
       "  </thead>\n",
       "  <tbody>\n",
       "    <tr>\n",
       "      <th>251161</th>\n",
       "      <td>255</td>\n",
       "      <td>255</td>\n",
       "      <td>255</td>\n",
       "      <td>3009</td>\n",
       "    </tr>\n",
       "    <tr>\n",
       "      <th>243826</th>\n",
       "      <td>254</td>\n",
       "      <td>204</td>\n",
       "      <td>131</td>\n",
       "      <td>1147</td>\n",
       "    </tr>\n",
       "    <tr>\n",
       "      <th>242586</th>\n",
       "      <td>253</td>\n",
       "      <td>238</td>\n",
       "      <td>195</td>\n",
       "      <td>949</td>\n",
       "    </tr>\n",
       "    <tr>\n",
       "      <th>244520</th>\n",
       "      <td>254</td>\n",
       "      <td>249</td>\n",
       "      <td>220</td>\n",
       "      <td>947</td>\n",
       "    </tr>\n",
       "    <tr>\n",
       "      <th>703</th>\n",
       "      <td>1</td>\n",
       "      <td>80</td>\n",
       "      <td>113</td>\n",
       "      <td>929</td>\n",
       "    </tr>\n",
       "    <tr>\n",
       "      <th>243803</th>\n",
       "      <td>254</td>\n",
       "      <td>203</td>\n",
       "      <td>114</td>\n",
       "      <td>902</td>\n",
       "    </tr>\n",
       "    <tr>\n",
       "      <th>248917</th>\n",
       "      <td>255</td>\n",
       "      <td>211</td>\n",
       "      <td>146</td>\n",
       "      <td>893</td>\n",
       "    </tr>\n",
       "    <tr>\n",
       "      <th>248356</th>\n",
       "      <td>255</td>\n",
       "      <td>203</td>\n",
       "      <td>128</td>\n",
       "      <td>863</td>\n",
       "    </tr>\n",
       "    <tr>\n",
       "      <th>244398</th>\n",
       "      <td>254</td>\n",
       "      <td>239</td>\n",
       "      <td>196</td>\n",
       "      <td>858</td>\n",
       "    </tr>\n",
       "    <tr>\n",
       "      <th>421</th>\n",
       "      <td>0</td>\n",
       "      <td>106</td>\n",
       "      <td>148</td>\n",
       "      <td>849</td>\n",
       "    </tr>\n",
       "  </tbody>\n",
       "</table>\n",
       "</div>"
      ],
      "text/plain": [
       "          R    G    B  count\n",
       "251161  255  255  255   3009\n",
       "243826  254  204  131   1147\n",
       "242586  253  238  195    949\n",
       "244520  254  249  220    947\n",
       "703       1   80  113    929\n",
       "243803  254  203  114    902\n",
       "248917  255  211  146    893\n",
       "248356  255  203  128    863\n",
       "244398  254  239  196    858\n",
       "421       0  106  148    849"
      ]
     },
     "execution_count": 54,
     "metadata": {},
     "output_type": "execute_result"
    }
   ],
   "source": [
    "color_df['count'] = count\n",
    "color_df.sort_values(by='count', ascending=False).head(10)"
   ]
  },
  {
   "cell_type": "code",
   "execution_count": 33,
   "metadata": {},
   "outputs": [],
   "source": [
    "def rgb_to_hex(r,g,b):\n",
    "    return ('{:02X}' *3).format(r,g,b)"
   ]
  },
  {
   "cell_type": "code",
   "execution_count": 45,
   "metadata": {},
   "outputs": [
    {
     "data": {
      "text/plain": [
       "115"
      ]
     },
     "execution_count": 45,
     "metadata": {},
     "output_type": "execute_result"
    }
   ],
   "source": [
    "color_df.iloc[255]['B']"
   ]
  },
  {
   "cell_type": "code",
   "execution_count": 38,
   "metadata": {},
   "outputs": [
    {
     "data": {
      "text/plain": [
       "'000100'"
      ]
     },
     "execution_count": 38,
     "metadata": {},
     "output_type": "execute_result"
    }
   ],
   "source": [
    "rgb_to_hex(color_df.iloc[0]['R'],color_df.iloc[0]['G'],color_df.iloc[0]['B'])"
   ]
  },
  {
   "cell_type": "code",
   "execution_count": 48,
   "metadata": {},
   "outputs": [
    {
     "data": {
      "text/plain": [
       "'FFFFFF'"
      ]
     },
     "execution_count": 48,
     "metadata": {},
     "output_type": "execute_result"
    }
   ],
   "source": [
    "rgb_to_hex(color_df.iloc[251161]['R'], color_df.iloc[251161]['G'], color_df.iloc[251161]['B'])"
   ]
  },
  {
   "cell_type": "code",
   "execution_count": 55,
   "metadata": {},
   "outputs": [
    {
     "name": "stdout",
     "output_type": "stream",
     "text": [
      "          R    G    B  count\n",
      "251161  255  255  255   3009\n",
      "243826  254  204  131   1147\n",
      "242586  253  238  195    949\n",
      "244520  254  249  220    947\n",
      "703       1   80  113    929\n",
      "243803  254  203  114    902\n",
      "248917  255  211  146    893\n",
      "248356  255  203  128    863\n",
      "244398  254  239  196    858\n",
      "421       0  106  148    849\n"
     ]
    }
   ],
   "source": [
    "top_ten = color_df.sort_values(by='count', ascending=False).head(10)\n",
    "print(top_ten)"
   ]
  },
  {
   "cell_type": "code",
   "execution_count": 64,
   "metadata": {},
   "outputs": [
    {
     "data": {
      "text/plain": [
       "{'255, 255, 255': 'FFFFFF',\n",
       " '254, 204, 131': 'FECC83',\n",
       " '253, 238, 195': 'FDEEC3',\n",
       " '254, 249, 220': 'FEF9DC',\n",
       " '1, 80, 113': '015071',\n",
       " '254, 203, 114': 'FECB72',\n",
       " '255, 211, 146': 'FFD392',\n",
       " '255, 203, 128': 'FFCB80',\n",
       " '254, 239, 196': 'FEEFC4',\n",
       " '0, 106, 148': '006A94'}"
      ]
     },
     "execution_count": 64,
     "metadata": {},
     "output_type": "execute_result"
    }
   ],
   "source": [
    "colors = {}\n",
    "for i in top_ten.index.values:\n",
    "    R = top_ten.loc[i]['R']\n",
    "    G = top_ten.loc[i]['G']\n",
    "    B = top_ten.loc[i]['B']\n",
    "    color_string = f'{R}, {G}, {B}' \n",
    "    colors[color_string] = rgb_to_hex(R, G, B)\n",
    "    \n",
    "colors"
   ]
  },
  {
   "cell_type": "code",
   "execution_count": 60,
   "metadata": {},
   "outputs": [
    {
     "data": {
      "text/plain": [
       "array([251161, 243826, 242586, 244520,    703, 243803, 248917, 248356,\n",
       "       244398,    421], dtype=int64)"
      ]
     },
     "execution_count": 60,
     "metadata": {},
     "output_type": "execute_result"
    }
   ],
   "source": [
    "top_ten.index.values"
   ]
  },
  {
   "cell_type": "code",
   "execution_count": 63,
   "metadata": {},
   "outputs": [
    {
     "data": {
      "text/plain": [
       "R         255\n",
       "G         255\n",
       "B         255\n",
       "count    3009\n",
       "Name: 251161, dtype: int64"
      ]
     },
     "execution_count": 63,
     "metadata": {},
     "output_type": "execute_result"
    }
   ],
   "source": [
    "top_ten.loc[251161]"
   ]
  }
 ],
 "metadata": {
  "kernelspec": {
   "display_name": "base",
   "language": "python",
   "name": "python3"
  },
  "language_info": {
   "codemirror_mode": {
    "name": "ipython",
    "version": 3
   },
   "file_extension": ".py",
   "mimetype": "text/x-python",
   "name": "python",
   "nbconvert_exporter": "python",
   "pygments_lexer": "ipython3",
   "version": "3.9.7"
  },
  "orig_nbformat": 4,
  "vscode": {
   "interpreter": {
    "hash": "c7890a141049204290b1bc654a93c0a915bb76b9fbcf6bd5317ef9167142e035"
   }
  }
 },
 "nbformat": 4,
 "nbformat_minor": 2
}
